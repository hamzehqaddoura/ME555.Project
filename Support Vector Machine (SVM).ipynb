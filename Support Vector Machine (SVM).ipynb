{
 "cells": [
  {
   "cell_type": "code",
   "execution_count": 1,
   "metadata": {},
   "outputs": [],
   "source": [
    "import os\n",
    "import numpy as np\n",
    "import cv2\n",
    "import matplotlib.pyplot as plt\n",
    "import pickle\n",
    "import random\n",
    "from sklearn.model_selection import train_test_split\n",
    "from sklearn.svm import SVC"
   ]
  },
  {
   "cell_type": "code",
   "execution_count": 2,
   "metadata": {},
   "outputs": [],
   "source": [
    "pick_in = open('data1.pickle','rb')\n",
    "data = pickle.load(pick_in)\n",
    "pick_in.close()"
   ]
  },
  {
   "cell_type": "code",
   "execution_count": 3,
   "metadata": {},
   "outputs": [],
   "source": [
    "random.shuffle(data)\n",
    "features = []\n",
    "labels = []"
   ]
  },
  {
   "cell_type": "code",
   "execution_count": 4,
   "metadata": {},
   "outputs": [],
   "source": [
    "for feature,label in data:\n",
    "    features.append(feature)\n",
    "    labels.append(label)"
   ]
  },
  {
   "cell_type": "code",
   "execution_count": 19,
   "metadata": {},
   "outputs": [],
   "source": [
    "xtrain, xtest, ytrain, ytest = train_test_split(features, labels, test_size=0.25)\n",
    "\n",
    "model = SVC(C=1,kernel = 'poly',gamma='auto')\n",
    "model.fit(xtrain,ytrain)\n",
    "\n",
    "pick = open('model.sav','rb')   # trained model using the same code with 80% training \n",
    "model = pickle.load(pick)\n",
    "pick.close()"
   ]
  },
  {
   "cell_type": "code",
   "execution_count": 20,
   "metadata": {},
   "outputs": [
    {
     "name": "stdout",
     "output_type": "stream",
     "text": [
      "Accuracy:  0.9491404011461319\n",
      "Prediction is:  RING-BILLED GULL\n"
     ]
    },
    {
     "data": {
      "image/png": "[encoded data removed]",
      "text/plain": [
       "<Figure size 432x288 with 1 Axes>"
      ]
     },
     "metadata": {
      "needs_background": "light"
     },
     "output_type": "display_data"
    }
   ],
   "source": [
    "prediction = model.predict(xtest)\n",
    "accuracy = model.score(xtest, ytest)\n",
    "\n",
    "categories = ['GILDED FLICKER', 'NORTHERN FLICKER','RUBY THROATED HUMMINGBIRD', 'ANNAS HUMMINGBIRD','SAND MARTIN', 'COMMON HOUSE MARTIN','TREE SWALLOW','EASTERN BLUEBIRD', 'INDIGO BUNTING','HOUSE FINCH', 'PURPLE FINCH','NORTHERN GANNET', 'WHITE TAILED TROPIC','OCELLATED TURKEY', 'WILD TURKEY','RING-BILLED GULL', 'CALIFORNIA GULL','BEARDED BARBET']\n",
    "\n",
    "print('Accuracy: ', accuracy)\n",
    "print('Prediction is: ',categories[prediction[0]])\n",
    "\n",
    "mybird = xtest[0].reshape(50,50)\n",
    "plt.imshow(mybird,cmap='gray')\n",
    "plt.show()"
   ]
  },
  {
   "cell_type": "code",
   "execution_count": null,
   "metadata": {},
   "outputs": [],
   "source": []
  }
 ],
 "metadata": {
  "kernelspec": {
   "display_name": "Python 3",
   "language": "python",
   "name": "python3"
  },
  "language_info": {
   "codemirror_mode": {
    "name": "ipython",
    "version": 3
   },
   "file_extension": ".py",
   "mimetype": "text/x-python",
   "name": "python",
   "nbconvert_exporter": "python",
   "pygments_lexer": "ipython3",
   "version": "3.7.6"
  }
 },
 "nbformat": 4,
 "nbformat_minor": 4
}
