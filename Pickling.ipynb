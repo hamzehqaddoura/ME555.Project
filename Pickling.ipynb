{
 "cells": [
  {
   "cell_type": "code",
   "execution_count": 1,
   "metadata": {},
   "outputs": [],
   "source": [
    "import os\n",
    "import numpy as np\n",
    "import cv2\n",
    "import matplotlib.pyplot as plt\n",
    "import pickle"
   ]
  },
  {
   "cell_type": "code",
   "execution_count": 2,
   "metadata": {},
   "outputs": [],
   "source": [
    "dir = r'C:\\Users\\hakam\\ME555Project\\Dataset'"
   ]
  },
  {
   "cell_type": "code",
   "execution_count": 17,
   "metadata": {},
   "outputs": [],
   "source": [
    "categories = ['GILDED FLICKER', 'NORTHERN FLICKER','RUBY THROATED HUMMINGBIRD', 'ANNAS HUMMINGBIRD','SAND MARTIN', 'COMMON HOUSE MARTIN','TREE SWALLOW','EASTERN BLUEBIRD', 'INDIGO BUNTING','HOUSE FINCH', 'PURPLE FINCH','NORTHERN GANNET', 'WHITE TAILED TROPIC','OCELLATED TURKEY', 'WILD TURKEY','RING-BILLED GULL', 'CALIFORNIA GULL','BEARDED BARBET']\n",
    "\n",
    "data = []"
   ]
  },
  {
   "cell_type": "code",
   "execution_count": 20,
   "metadata": {},
   "outputs": [
    {
     "name": "stdout",
     "output_type": "stream",
     "text": [
      "5582\n"
     ]
    }
   ],
   "source": [
    "for category in categories:\n",
    "    path = os.path.join(dir,category)\n",
    "    label = categories.index(category)\n",
    "    \n",
    "    for img in os.listdir(path):\n",
    "        imgpath = os.path.join(path,img)\n",
    "        try:\n",
    "                bird_img = cv2.imread(imgpath,0)\n",
    "                bird_img = cv2.resize(bird_img,(50,50))\n",
    "                image = np.array(bird_img).flatten()\n",
    "    \n",
    "                data.append([image,label])\n",
    "        except Exception as e:\n",
    "                pass\n",
    "            \n",
    "print(len(data))"
   ]
  },
  {
   "cell_type": "code",
   "execution_count": 21,
   "metadata": {},
   "outputs": [],
   "source": [
    "pick_in = open('data1.pickle','wb')\n",
    "pickle.dump(data,pick_in)\n",
    "pick_in.close()"
   ]
  },
  {
   "cell_type": "code",
   "execution_count": null,
   "metadata": {},
   "outputs": [],
   "source": []
  }
 ],
 "metadata": {
  "kernelspec": {
   "display_name": "Python 3",
   "language": "python",
   "name": "python3"
  },
  "language_info": {
   "codemirror_mode": {
    "name": "ipython",
    "version": 3
   },
   "file_extension": ".py",
   "mimetype": "text/x-python",
   "name": "python",
   "nbconvert_exporter": "python",
   "pygments_lexer": "ipython3",
   "version": "3.7.6"
  }
 },
 "nbformat": 4,
 "nbformat_minor": 4
}
